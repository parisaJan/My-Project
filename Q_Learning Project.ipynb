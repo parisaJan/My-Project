{
 "cells": [
  {
   "cell_type": "code",
   "execution_count": 3,
   "id": "e5e82422",
   "metadata": {},
   "outputs": [
    {
     "name": "stdout",
     "output_type": "stream",
     "text": [
      "Running experiment with Learning Rate=0.1, Discount Factor=0.1, Exploration Rate=0.1\n"
     ]
    },
    {
     "ename": "ValueError",
     "evalue": "setting an array element with a sequence. The requested array has an inhomogeneous shape after 1 dimensions. The detected shape was (2,) + inhomogeneous part.",
     "output_type": "error",
     "traceback": [
      "\u001b[1;31m---------------------------------------------------------------------------\u001b[0m",
      "\u001b[1;31mValueError\u001b[0m                                Traceback (most recent call last)",
      "Cell \u001b[1;32mIn[3], line 84\u001b[0m\n\u001b[0;32m     82\u001b[0m \u001b[38;5;28mprint\u001b[39m(\u001b[38;5;124mf\u001b[39m\u001b[38;5;124m\"\u001b[39m\u001b[38;5;124mRunning experiment with Learning Rate=\u001b[39m\u001b[38;5;132;01m{\u001b[39;00mlr\u001b[38;5;132;01m}\u001b[39;00m\u001b[38;5;124m, Discount Factor=\u001b[39m\u001b[38;5;132;01m{\u001b[39;00mdf\u001b[38;5;132;01m}\u001b[39;00m\u001b[38;5;124m, Exploration Rate=\u001b[39m\u001b[38;5;132;01m{\u001b[39;00mer\u001b[38;5;132;01m}\u001b[39;00m\u001b[38;5;124m\"\u001b[39m)\n\u001b[0;32m     83\u001b[0m agent \u001b[38;5;241m=\u001b[39m QLearningAgent(state_space_size, action_space_size, lr, df, er)\n\u001b[1;32m---> 84\u001b[0m episode_rewards \u001b[38;5;241m=\u001b[39m run_experiment(agent, gym\u001b[38;5;241m.\u001b[39mmake(\u001b[38;5;124m'\u001b[39m\u001b[38;5;124mMountainCar-v0\u001b[39m\u001b[38;5;124m'\u001b[39m), num_episodes\u001b[38;5;241m=\u001b[39m\u001b[38;5;241m1000\u001b[39m)\n\u001b[0;32m     85\u001b[0m plot_learning_curve(episode_rewards, lr, df, er)\n",
      "Cell \u001b[1;32mIn[3], line 43\u001b[0m, in \u001b[0;36mrun_experiment\u001b[1;34m(agent, env, num_episodes)\u001b[0m\n\u001b[0;32m     40\u001b[0m done \u001b[38;5;241m=\u001b[39m \u001b[38;5;28;01mFalse\u001b[39;00m\n\u001b[0;32m     42\u001b[0m \u001b[38;5;28;01mwhile\u001b[39;00m \u001b[38;5;129;01mnot\u001b[39;00m done:\n\u001b[1;32m---> 43\u001b[0m     action \u001b[38;5;241m=\u001b[39m agent\u001b[38;5;241m.\u001b[39mselect_action(state)\n\u001b[0;32m     45\u001b[0m     \u001b[38;5;66;03m# Take action in the environment\u001b[39;00m\n\u001b[0;32m     46\u001b[0m     next_state, reward, done, _ \u001b[38;5;241m=\u001b[39m env\u001b[38;5;241m.\u001b[39mstep(action)\n",
      "Cell \u001b[1;32mIn[3], line 25\u001b[0m, in \u001b[0;36mQLearningAgent.select_action\u001b[1;34m(self, state)\u001b[0m\n\u001b[0;32m     23\u001b[0m     \u001b[38;5;28;01mreturn\u001b[39;00m np\u001b[38;5;241m.\u001b[39mrandom\u001b[38;5;241m.\u001b[39mrandint(\u001b[38;5;28mself\u001b[39m\u001b[38;5;241m.\u001b[39maction_space_size)\n\u001b[0;32m     24\u001b[0m \u001b[38;5;28;01melse\u001b[39;00m:\n\u001b[1;32m---> 25\u001b[0m     \u001b[38;5;28;01mreturn\u001b[39;00m np\u001b[38;5;241m.\u001b[39margmax(\u001b[38;5;28mself\u001b[39m\u001b[38;5;241m.\u001b[39mq_table[state, :])\n",
      "\u001b[1;31mValueError\u001b[0m: setting an array element with a sequence. The requested array has an inhomogeneous shape after 1 dimensions. The detected shape was (2,) + inhomogeneous part."
     ]
    }
   ],
   "source": [
    "import gym\n",
    "import numpy as np\n",
    "import matplotlib.pyplot as plt\n",
    "\n",
    "class QLearningAgent:\n",
    "    def __init__(self, state_space_size, action_space_size, learning_rate, discount_factor, exploration_rate):\n",
    "        self.learning_rate = learning_rate\n",
    "        self.discount_factor = discount_factor\n",
    "        self.exploration_rate = exploration_rate\n",
    "        self.state_space_size = state_space_size\n",
    "        self.action_space_size = action_space_size\n",
    "        self.q_table = np.zeros((state_space_size, action_space_size))\n",
    "\n",
    "    def discretize_state(self, state):\n",
    "        # Convert the continuous state to a discrete state representation\n",
    "        # Modify this according to the specifics of your state space\n",
    "        discrete_state = tuple(state)\n",
    "        return discrete_state\n",
    "\n",
    "    def select_action(self, state):\n",
    "        # Choose the action using epsilon-greedy strategy\n",
    "        if np.random.rand() < self.exploration_rate:\n",
    "            return np.random.randint(self.action_space_size)\n",
    "        else:\n",
    "            return np.argmax(self.q_table[state, :])\n",
    "\n",
    "    def update_q_value(self, state, action, reward, next_state):\n",
    "        # Update the Q-value using the Q-learning update rule\n",
    "        best_next_action = np.argmax(self.q_table[next_state, :])\n",
    "        self.q_table[state, action] += self.learning_rate * (\n",
    "            reward + self.discount_factor * self.q_table[next_state, best_next_action] - self.q_table[state, action]\n",
    "        )\n",
    "\n",
    "def run_experiment(agent, env, num_episodes):\n",
    "    episode_rewards = []\n",
    "\n",
    "    for episode in range(num_episodes):\n",
    "        state = agent.discretize_state(env.reset())\n",
    "        total_reward = 0\n",
    "        done = False\n",
    "\n",
    "        while not done:\n",
    "            action = agent.select_action(state)\n",
    "\n",
    "            # Take action in the environment\n",
    "            next_state, reward, done, _ = env.step(action)\n",
    "            next_state = agent.discretize_state(next_state)\n",
    "\n",
    "            # Ensure the action is within the valid range\n",
    "            assert env.action_space.contains(action), f\"Invalid action: {action}\"\n",
    "\n",
    "            # Update Q-value\n",
    "            agent.update_q_value(state, action, reward, next_state)\n",
    "\n",
    "            state = next_state\n",
    "            total_reward += reward\n",
    "\n",
    "        episode_rewards.append(total_reward)\n",
    "\n",
    "    env.close()\n",
    "    return episode_rewards\n",
    "\n",
    "def plot_learning_curve(episode_rewards, lr, df, er):\n",
    "    plt.plot(episode_rewards, label=f'LR={lr}, DF={df}, ER={er}')\n",
    "    plt.xlabel('Episodes')\n",
    "    plt.ylabel('Total Episode Reward')\n",
    "    plt.title('Q-learning on Mountain Car Benchmark')\n",
    "    plt.legend()\n",
    "    plt.show()\n",
    "\n",
    "if __name__ == \"__main__\":\n",
    "    state_space_size = 2  # Update this based on your state space\n",
    "    action_space_size = 3  # Update this based on your action space\n",
    "\n",
    "    learning_rates = [0.1, 0.5, 0.9]\n",
    "    discount_factors = [0.1, 0.5, 0.9]\n",
    "    exploration_rates = [0.1, 0.5, 0.9]\n",
    "\n",
    "    for lr in learning_rates:\n",
    "        for df in discount_factors:\n",
    "            for er in exploration_rates:\n",
    "                print(f\"Running experiment with Learning Rate={lr}, Discount Factor={df}, Exploration Rate={er}\")\n",
    "                agent = QLearningAgent(state_space_size, action_space_size, lr, df, er)\n",
    "                episode_rewards = run_experiment(agent, gym.make('MountainCar-v0'), num_episodes=1000)\n",
    "                plot_learning_curve(episode_rewards, lr, df, er)"
   ]
  },
  {
   "cell_type": "code",
   "execution_count": null,
   "id": "26e1226d",
   "metadata": {},
   "outputs": [],
   "source": []
  }
 ],
 "metadata": {
  "kernelspec": {
   "display_name": "Python 3 (ipykernel)",
   "language": "python",
   "name": "python3"
  },
  "language_info": {
   "codemirror_mode": {
    "name": "ipython",
    "version": 3
   },
   "file_extension": ".py",
   "mimetype": "text/x-python",
   "name": "python",
   "nbconvert_exporter": "python",
   "pygments_lexer": "ipython3",
   "version": "3.11.5"
  }
 },
 "nbformat": 4,
 "nbformat_minor": 5
}
